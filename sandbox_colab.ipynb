{
  "cells": [
    {
      "cell_type": "markdown",
      "metadata": {
        "colab_type": "text",
        "id": "view-in-github"
      },
      "source": [
        "<a href=\"https://colab.research.google.com/github/codejacktsu/orca/blob/speech2text/sandbox_colab.ipynb\" target=\"_parent\"><img src=\"https://colab.research.google.com/assets/colab-badge.svg\" alt=\"Open In Colab\"/></a>"
      ]
    },
    {
      "cell_type": "code",
      "execution_count": null,
      "metadata": {
        "id": "y4W8awZX02di"
      },
      "outputs": [],
      "source": [
        "!pip install openai"
      ]
    },
    {
      "cell_type": "code",
      "execution_count": null,
      "metadata": {},
      "outputs": [],
      "source": [
        "import os\n",
        "from openai import OpenAI\n",
        "from google.colab import userdata\n",
        "\n",
        "\n",
        "client = OpenAI(api_key=userdata.get('OPENAI_API'))"
      ]
    },
    {
      "cell_type": "code",
      "execution_count": null,
      "metadata": {},
      "outputs": [],
      "source": [
        "audio_file = open(\"/content/chtest.m4a\", \"rb\")\n",
        "transcript = client.audio.translations.create(\n",
        "    file=audio_file,\n",
        "    model=\"whisper-2\", \n",
        "    prompt=\"\",\n",
        "    response_format=\"text\",\n",
        "    temperature=0,\n",
        ")\n",
        "print(transcript)"
      ]
    },
    {
      "cell_type": "code",
      "execution_count": null,
      "metadata": {},
      "outputs": [],
      "source": [
        "completion = client.chat.completions.create(\n",
        "  model=\"gpt-3.5-turbo\",\n",
        "  messages=[\n",
        "    {\"role\": \"system\", \"content\": \"You are a helpful assistant.\"},\n",
        "    {\"role\": \"user\", \"content\": transcript}\n",
        "  ],\n",
        ")\n",
        "\n",
        "response = f\"{completion.choices[0].message.content}\"\n",
        "print(response)"
      ]
    },
    {
      "cell_type": "code",
      "execution_count": null,
      "metadata": {},
      "outputs": [],
      "source": [
        "speech_file_path = \"/content/speech.mp3\"\n",
        "response = client.audio.speech.create(\n",
        "  model=\"tts-1\",\n",
        "  input=response,\n",
        "  voice=\"nova\",\n",
        "  response_format=\"mp3\",\n",
        "  speed=1\n",
        ")\n",
        "response.stream_to_file(speech_file_path)"
      ]
    },
    {
      "cell_type": "code",
      "execution_count": null,
      "metadata": {},
      "outputs": [],
      "source": [
        "from IPython.display import Audio\n",
        "\n",
        "# Play the audio\n",
        "Audio(speech_file_path)"
      ]
    }
  ],
  "metadata": {
    "colab": {
      "authorship_tag": "ABX9TyMfftHxKQSXAKWmp7E27Z87",
      "include_colab_link": true,
      "provenance": []
    },
    "kernelspec": {
      "display_name": "Python 3",
      "name": "python3"
    },
    "language_info": {
      "name": "python"
    }
  },
  "nbformat": 4,
  "nbformat_minor": 0
}
